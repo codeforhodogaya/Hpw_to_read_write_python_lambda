{
  "nbformat": 4,
  "nbformat_minor": 0,
  "metadata": {
    "colab": {
      "name": "How_to _use_simple_lambda.ipynb",
      "provenance": []
    },
    "kernelspec": {
      "name": "python3",
      "display_name": "Python 3"
    },
    "language_info": {
      "name": "python"
    }
  },
  "cells": [
    {
      "cell_type": "markdown",
      "source": [
        "関数のあるもの"
      ],
      "metadata": {
        "id": "pMRO-vNXMIdv"
      }
    },
    {
      "cell_type": "code",
      "source": [
        "def calc(base, height):\n",
        "  return base*height/2"
      ],
      "metadata": {
        "id": "WHVfku3vMIGc"
      },
      "execution_count": 2,
      "outputs": []
    },
    {
      "cell_type": "code",
      "execution_count": 3,
      "metadata": {
        "colab": {
          "base_uri": "https://localhost:8080/"
        },
        "id": "mNuJgV3rIpSq",
        "outputId": "2c8939f8-3187-4d54-ad77-ec4b4f4252cf"
      },
      "outputs": [
        {
          "output_type": "execute_result",
          "data": {
            "text/plain": [
              "25.0"
            ]
          },
          "metadata": {},
          "execution_count": 3
        }
      ],
      "source": [
        "calc(10, 5)"
      ]
    },
    {
      "cell_type": "markdown",
      "source": [
        "Lambda式は無名関数"
      ],
      "metadata": {
        "id": "mAzTbAX2NCnc"
      }
    },
    {
      "cell_type": "code",
      "source": [
        "(lambda base, height: base*height/2)(10, 5)"
      ],
      "metadata": {
        "colab": {
          "base_uri": "https://localhost:8080/"
        },
        "id": "La6M02NqNN1H",
        "outputId": "d9092e34-12e1-4b87-b552-900668d242a0"
      },
      "execution_count": 5,
      "outputs": [
        {
          "output_type": "execute_result",
          "data": {
            "text/plain": [
              "25.0"
            ]
          },
          "metadata": {},
          "execution_count": 5
        }
      ]
    },
    {
      "cell_type": "code",
      "source": [
        "func = lambda base, height: base*height/2"
      ],
      "metadata": {
        "id": "F-DZOI5wNtwT"
      },
      "execution_count": 8,
      "outputs": []
    },
    {
      "cell_type": "code",
      "source": [
        "func(10, 5)"
      ],
      "metadata": {
        "colab": {
          "base_uri": "https://localhost:8080/"
        },
        "id": "PDHsLHJLN0gQ",
        "outputId": "80eef41e-36ff-4174-d406-18e855f5839e"
      },
      "execution_count": 9,
      "outputs": [
        {
          "output_type": "execute_result",
          "data": {
            "text/plain": [
              "25.0"
            ]
          },
          "metadata": {},
          "execution_count": 9
        }
      ]
    },
    {
      "cell_type": "markdown",
      "source": [
        "大小文字バラバラのリストをUpperケースに変換するlambda式"
      ],
      "metadata": {
        "id": "ukY2I01JL-fK"
      }
    },
    {
      "cell_type": "code",
      "source": [
        "students=[\"tanaka\",\"SHIMADA\",\"Takahashi\",\"ImaDa\"]"
      ],
      "metadata": {
        "id": "OLgySYLpOHln"
      },
      "execution_count": 10,
      "outputs": []
    },
    {
      "cell_type": "code",
      "source": [
        "list(map(lambda student: student.upper(), students ))"
      ],
      "metadata": {
        "colab": {
          "base_uri": "https://localhost:8080/"
        },
        "id": "53rQl-_uOTzE",
        "outputId": "94cdc82a-3648-4727-b95f-a82b35617e80"
      },
      "execution_count": 12,
      "outputs": [
        {
          "output_type": "execute_result",
          "data": {
            "text/plain": [
              "['TANAKA', 'SHIMADA', 'TAKAHASHI', 'IMADA']"
            ]
          },
          "metadata": {},
          "execution_count": 12
        }
      ]
    },
    {
      "cell_type": "code",
      "source": [
        ""
      ],
      "metadata": {
        "id": "Bur2wtRVPCAY"
      },
      "execution_count": null,
      "outputs": []
    }
  ]
}